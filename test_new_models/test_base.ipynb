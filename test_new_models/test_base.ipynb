{
 "cells": [
  {
   "cell_type": "markdown",
   "metadata": {
    "id": "-uF3N4BbaMvA"
   },
   "source": [
    "## Overview"
   ]
  },
  {
   "cell_type": "markdown",
   "metadata": {
    "id": "2dQlTqiffuoU"
   },
   "source": [
    "## Setup"
   ]
  },
  {
   "cell_type": "code",
   "execution_count": 1,
   "metadata": {
    "execution": {
     "iopub.execute_input": "2021-08-12T11:20:56.803070Z",
     "iopub.status.busy": "2021-08-12T11:20:56.802479Z",
     "iopub.status.idle": "2021-08-12T11:21:03.774519Z",
     "shell.execute_reply": "2021-08-12T11:21:03.773990Z"
    },
    "id": "2xh1kvGEBjuP"
   },
   "outputs": [
    {
     "name": "stdout",
     "output_type": "stream",
     "text": [
      "2.6.0\n"
     ]
    }
   ],
   "source": [
    "import os\n",
    "import cv2\n",
    "from tqdm import tqdm\n",
    "import tensorflow as tf\n",
    "from PIL import Image\n",
    "from matplotlib import cm\n",
    "\n",
    "import numpy as np\n",
    "from sklearn.metrics import accuracy_score\n",
    "\n",
    "print(tf.__version__)"
   ]
  },
  {
   "cell_type": "markdown",
   "metadata": {
    "id": "i5miVfL4kxTA"
   },
   "source": [
    "Define model"
   ]
  },
  {
   "cell_type": "code",
   "execution_count": 2,
   "metadata": {},
   "outputs": [],
   "source": [
    "#model_path = '../frozen_base/frozen_graph.pb'\n",
    "#model_path = './frozen_pruned/frozen_graph.pb'"
   ]
  },
  {
   "cell_type": "code",
   "execution_count": 3,
   "metadata": {},
   "outputs": [],
   "source": [
    "def get_ds():\n",
    "    \"\"\"\n",
    "    ## Generate a `Dataset`\n",
    "    \"\"\"\n",
    "\n",
    "    image_size = (180, 180)\n",
    "    batch_size = 32\n",
    "\n",
    "    train_ds = tf.keras.preprocessing.image_dataset_from_directory(\n",
    "        \"../PetImages\",\n",
    "        validation_split=0.2,\n",
    "        subset=\"training\",\n",
    "        seed=1337,\n",
    "        image_size=image_size,\n",
    "        batch_size=batch_size,\n",
    "    )\n",
    "    val_ds = tf.keras.preprocessing.image_dataset_from_directory(\n",
    "        \"../PetImages\",\n",
    "        validation_split=0.2,\n",
    "        subset=\"validation\",\n",
    "        seed=1337,\n",
    "        image_size=image_size,\n",
    "        batch_size=batch_size,\n",
    "    )\n",
    "\n",
    "    def scale(image, label):\n",
    "        return tf.image.convert_image_dtype(image, tf.float32)/255, label\n",
    "\n",
    "    train_ds = train_ds.map(scale)\n",
    "    val_ds = val_ds.map(scale)\n",
    "    \n",
    "    return train_ds, val_ds"
   ]
  },
  {
   "cell_type": "code",
   "execution_count": 4,
   "metadata": {},
   "outputs": [],
   "source": [
    "def evaluate_model(model_reloaded):\n",
    "    global output\n",
    "    \n",
    "\n",
    "    # Run predictions on ever y image in the \"test\" dataset.\n",
    "    prediction = []\n",
    "    y_true = []\n",
    "    \n",
    "    \n",
    "\n",
    "    \n",
    "    for i, test_image in enumerate(tqdm(test_images)):    \n",
    "        #if i % 100 == 0:\n",
    "        #    print('Evaluated on {n} results so far.'.format(n=i))\n",
    "            \n",
    "            \n",
    "        if i == 500:  # Ограничемся 500-ми первыми (очень долго ждать всех...)          \n",
    "            break\n",
    "                    \n",
    "        #r,g,b = cv2.split(test_image)\n",
    "        #img = cv2.merge([b,g,r])\n",
    "                \n",
    "\n",
    "        # Use the given image as input, which needs to be blob(s).\n",
    "        #tensorflowNet.setInput(cv2.dnn.blobFromImage(img, size=(180, 180), swapRB=True, crop=False))\n",
    "\n",
    "\n",
    "        # Runs a forward pass to compute the net output\n",
    "        #networkOutput = tensorflowNet.forward()\n",
    "\n",
    "        #output = networkOutput[0]    \n",
    "        test_image = np.expand_dims(test_image, axis=0).astype(np.float32)        \n",
    "        output = model_reloaded.predict(test_image)           \n",
    "        \n",
    "        \n",
    "        \n",
    "        if output[0] > 0.5:\n",
    "            prediction.append(1)\n",
    "        else:\n",
    "            prediction.append(0)            \n",
    "        y_true.append(test_labels[i])\n",
    "\n",
    "    print('\\n')\n",
    "    prediction = np.array(prediction)\n",
    "    y_true = np.array(y_true)    \n",
    "    accuracy = accuracy_score(y_true, prediction)\n",
    "    return accuracy"
   ]
  },
  {
   "cell_type": "code",
   "execution_count": 5,
   "metadata": {},
   "outputs": [
    {
     "name": "stdout",
     "output_type": "stream",
     "text": [
      "Found 23422 files belonging to 2 classes.\n",
      "Using 18738 files for training.\n",
      "Found 23422 files belonging to 2 classes.\n",
      "Using 4684 files for validation.\n"
     ]
    }
   ],
   "source": [
    "_, val_ds = get_ds()\n",
    "\n",
    "\n",
    "test_images = []\n",
    "test_labels =[]\n",
    "for element in val_ds.as_numpy_iterator():\n",
    "\n",
    "    temp = list(element[1].reshape(-1))\n",
    "    test_labels = test_labels + temp\n",
    "    a = element[0]\n",
    "    temp = list(a)  \n",
    "    test_images = test_images + temp    \n",
    "\n",
    "\n",
    "test_images = np.array(test_images)\n",
    "test_labels = np.array(test_labels)    "
   ]
  },
  {
   "cell_type": "code",
   "execution_count": 6,
   "metadata": {},
   "outputs": [],
   "source": [
    "model_reloaded = tf.keras.models.load_model('../base')"
   ]
  },
  {
   "cell_type": "code",
   "execution_count": 7,
   "metadata": {
    "scrolled": false
   },
   "outputs": [
    {
     "name": "stderr",
     "output_type": "stream",
     "text": [
      " 11%|████████████████████▋                                                                                                                                                                             | 500/4684 [00:30<04:12, 16.58it/s]"
     ]
    },
    {
     "name": "stdout",
     "output_type": "stream",
     "text": [
      "\n",
      "\n",
      "Wall time: 30.2 s\n"
     ]
    },
    {
     "name": "stderr",
     "output_type": "stream",
     "text": [
      "\n"
     ]
    }
   ],
   "source": [
    "%%time\n",
    "with tf.device('/cpu:0'):\n",
    "    test_accuracy = evaluate_model(model_reloaded)"
   ]
  },
  {
   "cell_type": "code",
   "execution_count": 10,
   "metadata": {},
   "outputs": [
    {
     "name": "stdout",
     "output_type": "stream",
     "text": [
      "Base test accuracy: 0.952\n",
      "File size: 34768813 bytes.\n"
     ]
    }
   ],
   "source": [
    "print('Base test accuracy:', test_accuracy)\n",
    "print('File size:', 34768813, 'bytes.')"
   ]
  },
  {
   "cell_type": "code",
   "execution_count": null,
   "metadata": {},
   "outputs": [],
   "source": []
  }
 ],
 "metadata": {
  "colab": {
   "collapsed_sections": [],
   "name": "super_resolution.ipynb",
   "provenance": [],
   "toc_visible": true
  },
  "kernelspec": {
   "display_name": "Python 3",
   "language": "python",
   "name": "python3"
  },
  "language_info": {
   "codemirror_mode": {
    "name": "ipython",
    "version": 3
   },
   "file_extension": ".py",
   "mimetype": "text/x-python",
   "name": "python",
   "nbconvert_exporter": "python",
   "pygments_lexer": "ipython3",
   "version": "3.8.6"
  }
 },
 "nbformat": 4,
 "nbformat_minor": 1
}
