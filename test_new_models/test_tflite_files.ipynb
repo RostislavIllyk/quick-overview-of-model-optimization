{
 "cells": [
  {
   "cell_type": "markdown",
   "metadata": {
    "id": "-uF3N4BbaMvA"
   },
   "source": [
    "## Overview"
   ]
  },
  {
   "cell_type": "markdown",
   "metadata": {
    "id": "2dQlTqiffuoU"
   },
   "source": [
    "## Setup"
   ]
  },
  {
   "cell_type": "code",
   "execution_count": 1,
   "metadata": {
    "execution": {
     "iopub.execute_input": "2021-08-12T11:20:56.803070Z",
     "iopub.status.busy": "2021-08-12T11:20:56.802479Z",
     "iopub.status.idle": "2021-08-12T11:21:03.774519Z",
     "shell.execute_reply": "2021-08-12T11:21:03.773990Z"
    },
    "id": "2xh1kvGEBjuP"
   },
   "outputs": [
    {
     "name": "stdout",
     "output_type": "stream",
     "text": [
      "2.6.0\n"
     ]
    }
   ],
   "source": [
    "import os\n",
    "from tqdm import tqdm\n",
    "import tensorflow as tf\n",
    "import glob\n",
    "import numpy as np\n",
    "from sklearn.metrics import accuracy_score\n",
    "import time\n",
    "import pandas as pd\n",
    "print(tf.__version__)    "
   ]
  },
  {
   "cell_type": "markdown",
   "metadata": {
    "id": "i5miVfL4kxTA"
   },
   "source": [
    "Define models"
   ]
  },
  {
   "cell_type": "code",
   "execution_count": 2,
   "metadata": {},
   "outputs": [],
   "source": [
    "\n",
    "model_pathes = []\n",
    "names = []\n",
    "for file in glob.glob(\"../new_models/*.tflite\"):\n",
    "    model_pathes.append(file)\n",
    "    names.append(file[14:])    \n",
    "    "
   ]
  },
  {
   "cell_type": "code",
   "execution_count": 3,
   "metadata": {},
   "outputs": [
    {
     "data": {
      "text/plain": [
       "['actually_quantized_model_for_the_TFLite_backend.tflite',\n",
       " 'aware_quantized_tflite_model.tflite',\n",
       " 'only_16_bit_activations_with_8_bit_weights.tflite',\n",
       " 'post_training_dynamic_range_quantization.tflite',\n",
       " 'post_training_float16_quantization_model.tflite',\n",
       " 'pruned_tflite.tflite',\n",
       " 'quantized_and_pruned_tflite.tflite',\n",
       " 'sparsity_clustered_model_tflite_file.tflite']"
      ]
     },
     "execution_count": 3,
     "metadata": {},
     "output_type": "execute_result"
    }
   ],
   "source": [
    "names"
   ]
  },
  {
   "cell_type": "code",
   "execution_count": 4,
   "metadata": {},
   "outputs": [],
   "source": [
    "def get_ds():\n",
    "    \"\"\"\n",
    "    ## Generate a `Dataset`\n",
    "    \"\"\"\n",
    "\n",
    "    image_size = (180, 180)\n",
    "    batch_size = 32\n",
    "\n",
    "    train_ds = tf.keras.preprocessing.image_dataset_from_directory(\n",
    "        \"../PetImages\",\n",
    "        validation_split=0.2,\n",
    "        subset=\"training\",\n",
    "        seed=1337,\n",
    "        image_size=image_size,\n",
    "        batch_size=batch_size,\n",
    "    )\n",
    "    val_ds = tf.keras.preprocessing.image_dataset_from_directory(\n",
    "        \"../PetImages\",\n",
    "        validation_split=0.2,\n",
    "        subset=\"validation\",\n",
    "        seed=1337,\n",
    "        image_size=image_size,\n",
    "        batch_size=batch_size,\n",
    "    )\n",
    "\n",
    "    def scale(image, label):\n",
    "        return tf.image.convert_image_dtype(image, tf.float32)/255, label\n",
    "\n",
    "    train_ds = train_ds.map(scale)\n",
    "    val_ds = val_ds.map(scale)\n",
    "    \n",
    "    return train_ds, val_ds"
   ]
  },
  {
   "cell_type": "code",
   "execution_count": 5,
   "metadata": {},
   "outputs": [],
   "source": [
    "def evaluate_model(interpreter):\n",
    "    \n",
    "    input_index = interpreter.get_input_details()[0][\"index\"]\n",
    "    output_index = interpreter.get_output_details()[0][\"index\"]\n",
    "\n",
    "    # Run predictions on ever y image in the \"test\" dataset.\n",
    "    prediction = []\n",
    "    y_true = []\n",
    "\n",
    "    \n",
    "    with tf.device('/cpu:0'):\n",
    "\n",
    "    \n",
    "        for i, test_image in enumerate(tqdm(test_images)):    \n",
    "\n",
    "            if i == 500:  # Ограничемся 500-ми первыми (очень долго ждать всех...)          \n",
    "                break\n",
    "\n",
    "            # Pre-processing: add batch dimension and convert to float32 to match with\n",
    "            # the model's input data format.\n",
    "            test_image = np.expand_dims(test_image, axis=0).astype(np.float32)\n",
    "            interpreter.set_tensor(input_index, test_image)\n",
    "\n",
    "            # Run inference.\n",
    "            interpreter.invoke()\n",
    "\n",
    "            # Post-processing: remove batch dimension and find the digit with highest\n",
    "            # probability.\n",
    "            output = interpreter.tensor(output_index)\n",
    "\n",
    "            if output()[0][0] > 0.5:\n",
    "                prediction.append(1)\n",
    "            else:\n",
    "                prediction.append(0)            \n",
    "            y_true.append(test_labels[i])\n",
    "\n",
    "    print('\\n')\n",
    "    prediction = np.array(prediction)\n",
    "    y_true = np.array(y_true)    \n",
    "    accuracy = accuracy_score(y_true, prediction)\n",
    "    return accuracy"
   ]
  },
  {
   "cell_type": "code",
   "execution_count": 6,
   "metadata": {},
   "outputs": [
    {
     "name": "stdout",
     "output_type": "stream",
     "text": [
      "Found 23422 files belonging to 2 classes.\n",
      "Using 18738 files for training.\n",
      "Found 23422 files belonging to 2 classes.\n",
      "Using 4684 files for validation.\n"
     ]
    }
   ],
   "source": [
    "_, val_ds = get_ds()\n",
    "\n",
    "line = []\n",
    "test_images = []\n",
    "test_labels =[]\n",
    "for element in val_ds.as_numpy_iterator():\n",
    "\n",
    "    temp = list(element[1].reshape(-1))\n",
    "    test_labels = test_labels + temp\n",
    "    a = element[0]\n",
    "    temp = list(a)  \n",
    "    test_images = test_images + temp    \n",
    "\n",
    "\n",
    "test_images = np.array(test_images)\n",
    "test_labels = np.array(test_labels)    "
   ]
  },
  {
   "cell_type": "code",
   "execution_count": 7,
   "metadata": {},
   "outputs": [
    {
     "name": "stderr",
     "output_type": "stream",
     "text": [
      " 11%|████████████████████▍                                                                                                                                                                           | 500/4684 [46:19<6:27:41,  5.56s/it]\n",
      "  0%|                                                                                                                                                                                                            | 0/4684 [00:00<?, ?it/s]"
     ]
    },
    {
     "name": "stdout",
     "output_type": "stream",
     "text": [
      "\n",
      "\n",
      "['actually_quantized_model_for_the_TFLite_backend.tflite', 0.956, 2779.818, 3039968]\n"
     ]
    },
    {
     "name": "stderr",
     "output_type": "stream",
     "text": [
      " 11%|████████████████████▍                                                                                                                                                                           | 500/4684 [46:22<6:28:03,  5.56s/it]\n",
      "  0%|                                                                                                                                                                                                            | 0/4684 [00:00<?, ?it/s]"
     ]
    },
    {
     "name": "stdout",
     "output_type": "stream",
     "text": [
      "\n",
      "\n",
      "['aware_quantized_tflite_model.tflite', 0.936, 2782.475, 3041128]\n"
     ]
    },
    {
     "name": "stderr",
     "output_type": "stream",
     "text": [
      " 11%|████████████████████▋                                                                                                                                                                             | 500/4684 [05:40<47:31,  1.47it/s]\n",
      "  0%|                                                                                                                                                                                                            | 0/4684 [00:00<?, ?it/s]"
     ]
    },
    {
     "name": "stdout",
     "output_type": "stream",
     "text": [
      "\n",
      "\n",
      "['only_16_bit_activations_with_8_bit_weights.tflite', 0.954, 340.806, 3120768]\n"
     ]
    },
    {
     "name": "stderr",
     "output_type": "stream",
     "text": [
      " 11%|████████████████████▍                                                                                                                                                                           | 500/4684 [45:42<6:22:31,  5.49s/it]\n",
      "  0%|▏                                                                                                                                                                                                   | 4/4684 [00:00<02:31, 30.85it/s]"
     ]
    },
    {
     "name": "stdout",
     "output_type": "stream",
     "text": [
      "\n",
      "\n",
      "['post_training_dynamic_range_quantization.tflite', 0.956, 2742.804, 2997200]\n"
     ]
    },
    {
     "name": "stderr",
     "output_type": "stream",
     "text": [
      " 11%|████████████████████▋                                                                                                                                                                             | 500/4684 [00:16<02:14, 31.00it/s]\n",
      "  0%|▏                                                                                                                                                                                                   | 4/4684 [00:00<02:31, 30.85it/s]"
     ]
    },
    {
     "name": "stdout",
     "output_type": "stream",
     "text": [
      "\n",
      "\n",
      "['post_training_float16_quantization_model.tflite', 0.952, 16.13, 5559600]\n"
     ]
    },
    {
     "name": "stderr",
     "output_type": "stream",
     "text": [
      " 11%|████████████████████▋                                                                                                                                                                             | 500/4684 [00:16<02:14, 31.10it/s]\n",
      "  0%|                                                                                                                                                                                                            | 0/4684 [00:00<?, ?it/s]"
     ]
    },
    {
     "name": "stdout",
     "output_type": "stream",
     "text": [
      "\n",
      "\n",
      "['pruned_tflite.tflite', 0.954, 16.077, 11084464]\n"
     ]
    },
    {
     "name": "stderr",
     "output_type": "stream",
     "text": [
      " 11%|████████████████████▍                                                                                                                                                                           | 500/4684 [45:41<6:22:16,  5.48s/it]\n",
      "  0%|                                                                                                                                                                                                            | 0/4684 [00:00<?, ?it/s]"
     ]
    },
    {
     "name": "stdout",
     "output_type": "stream",
     "text": [
      "\n",
      "\n",
      "['quantized_and_pruned_tflite.tflite', 0.956, 2741.036, 2997200]\n"
     ]
    },
    {
     "name": "stderr",
     "output_type": "stream",
     "text": [
      " 11%|████████████████████▍                                                                                                                                                                           | 500/4684 [45:42<6:22:31,  5.49s/it]"
     ]
    },
    {
     "name": "stdout",
     "output_type": "stream",
     "text": [
      "\n",
      "\n",
      "['sparsity_clustered_model_tflite_file.tflite', 0.952, 2742.798, 2997200]\n"
     ]
    },
    {
     "name": "stderr",
     "output_type": "stream",
     "text": [
      "\n"
     ]
    }
   ],
   "source": [
    "for i in range(len(model_pathes)):\n",
    "\n",
    "    interpreter = tf.lite.Interpreter(model_path=model_pathes[i])\n",
    "    interpreter.allocate_tensors()\n",
    "    \n",
    "    start_time = time.time()    \n",
    "    test_accuracy = evaluate_model(interpreter)        \n",
    "    run_time = time.time() - start_time\n",
    "    \n",
    "    size = os.path.getsize(model_pathes[i])\n",
    "    line.append([names[i], test_accuracy, round(run_time, 3), size])\n",
    "    print(line[i])\n",
    "    df = pd.DataFrame(line)\n",
    "    df.columns = ['name', 'accuracy', 'run time cpu only', 'size']\n",
    "    df.to_csv('results_no_gpu.csv')\n",
    "\n",
    "\n",
    "    "
   ]
  },
  {
   "cell_type": "code",
   "execution_count": 8,
   "metadata": {},
   "outputs": [],
   "source": [
    "line.append(['BASE MOSEL', 0.952, 30.200, 34768813])\n",
    "\n",
    "df = pd.DataFrame(line)\n",
    "df.columns = ['name', 'accuracy', 'run time cpu only', 'size']\n",
    "df.to_csv('results_no_gpu.csv')"
   ]
  },
  {
   "cell_type": "code",
   "execution_count": 9,
   "metadata": {},
   "outputs": [
    {
     "data": {
      "text/html": [
       "<div>\n",
       "<style scoped>\n",
       "    .dataframe tbody tr th:only-of-type {\n",
       "        vertical-align: middle;\n",
       "    }\n",
       "\n",
       "    .dataframe tbody tr th {\n",
       "        vertical-align: top;\n",
       "    }\n",
       "\n",
       "    .dataframe thead th {\n",
       "        text-align: right;\n",
       "    }\n",
       "</style>\n",
       "<table border=\"1\" class=\"dataframe\">\n",
       "  <thead>\n",
       "    <tr style=\"text-align: right;\">\n",
       "      <th></th>\n",
       "      <th>name</th>\n",
       "      <th>accuracy</th>\n",
       "      <th>run time cpu only</th>\n",
       "      <th>size</th>\n",
       "    </tr>\n",
       "  </thead>\n",
       "  <tbody>\n",
       "    <tr>\n",
       "      <th>3</th>\n",
       "      <td>post_training_dynamic_range_quantization.tflite</td>\n",
       "      <td>0.956</td>\n",
       "      <td>2742.804</td>\n",
       "      <td>2997200</td>\n",
       "    </tr>\n",
       "    <tr>\n",
       "      <th>6</th>\n",
       "      <td>quantized_and_pruned_tflite.tflite</td>\n",
       "      <td>0.956</td>\n",
       "      <td>2741.036</td>\n",
       "      <td>2997200</td>\n",
       "    </tr>\n",
       "    <tr>\n",
       "      <th>7</th>\n",
       "      <td>sparsity_clustered_model_tflite_file.tflite</td>\n",
       "      <td>0.952</td>\n",
       "      <td>2742.798</td>\n",
       "      <td>2997200</td>\n",
       "    </tr>\n",
       "    <tr>\n",
       "      <th>0</th>\n",
       "      <td>actually_quantized_model_for_the_TFLite_backen...</td>\n",
       "      <td>0.956</td>\n",
       "      <td>2779.818</td>\n",
       "      <td>3039968</td>\n",
       "    </tr>\n",
       "    <tr>\n",
       "      <th>1</th>\n",
       "      <td>aware_quantized_tflite_model.tflite</td>\n",
       "      <td>0.936</td>\n",
       "      <td>2782.475</td>\n",
       "      <td>3041128</td>\n",
       "    </tr>\n",
       "    <tr>\n",
       "      <th>2</th>\n",
       "      <td>only_16_bit_activations_with_8_bit_weights.tflite</td>\n",
       "      <td>0.954</td>\n",
       "      <td>340.806</td>\n",
       "      <td>3120768</td>\n",
       "    </tr>\n",
       "    <tr>\n",
       "      <th>4</th>\n",
       "      <td>post_training_float16_quantization_model.tflite</td>\n",
       "      <td>0.952</td>\n",
       "      <td>16.130</td>\n",
       "      <td>5559600</td>\n",
       "    </tr>\n",
       "    <tr>\n",
       "      <th>5</th>\n",
       "      <td>pruned_tflite.tflite</td>\n",
       "      <td>0.954</td>\n",
       "      <td>16.077</td>\n",
       "      <td>11084464</td>\n",
       "    </tr>\n",
       "    <tr>\n",
       "      <th>8</th>\n",
       "      <td>BASE MOSEL</td>\n",
       "      <td>0.952</td>\n",
       "      <td>30.200</td>\n",
       "      <td>34768813</td>\n",
       "    </tr>\n",
       "  </tbody>\n",
       "</table>\n",
       "</div>"
      ],
      "text/plain": [
       "                                                name  accuracy  \\\n",
       "3    post_training_dynamic_range_quantization.tflite     0.956   \n",
       "6                 quantized_and_pruned_tflite.tflite     0.956   \n",
       "7        sparsity_clustered_model_tflite_file.tflite     0.952   \n",
       "0  actually_quantized_model_for_the_TFLite_backen...     0.956   \n",
       "1                aware_quantized_tflite_model.tflite     0.936   \n",
       "2  only_16_bit_activations_with_8_bit_weights.tflite     0.954   \n",
       "4    post_training_float16_quantization_model.tflite     0.952   \n",
       "5                               pruned_tflite.tflite     0.954   \n",
       "8                                         BASE MOSEL     0.952   \n",
       "\n",
       "   run time cpu only      size  \n",
       "3           2742.804   2997200  \n",
       "6           2741.036   2997200  \n",
       "7           2742.798   2997200  \n",
       "0           2779.818   3039968  \n",
       "1           2782.475   3041128  \n",
       "2            340.806   3120768  \n",
       "4             16.130   5559600  \n",
       "5             16.077  11084464  \n",
       "8             30.200  34768813  "
      ]
     },
     "execution_count": 9,
     "metadata": {},
     "output_type": "execute_result"
    }
   ],
   "source": [
    "df = df.sort_values(by='size', ascending = True )\n",
    "df"
   ]
  },
  {
   "cell_type": "code",
   "execution_count": 10,
   "metadata": {},
   "outputs": [
    {
     "data": {
      "text/html": [
       "<div>\n",
       "<style scoped>\n",
       "    .dataframe tbody tr th:only-of-type {\n",
       "        vertical-align: middle;\n",
       "    }\n",
       "\n",
       "    .dataframe tbody tr th {\n",
       "        vertical-align: top;\n",
       "    }\n",
       "\n",
       "    .dataframe thead th {\n",
       "        text-align: right;\n",
       "    }\n",
       "</style>\n",
       "<table border=\"1\" class=\"dataframe\">\n",
       "  <thead>\n",
       "    <tr style=\"text-align: right;\">\n",
       "      <th></th>\n",
       "      <th>name</th>\n",
       "      <th>accuracy</th>\n",
       "      <th>run time cpu only</th>\n",
       "      <th>size</th>\n",
       "    </tr>\n",
       "  </thead>\n",
       "  <tbody>\n",
       "    <tr>\n",
       "      <th>5</th>\n",
       "      <td>pruned_tflite.tflite</td>\n",
       "      <td>0.954</td>\n",
       "      <td>16.077</td>\n",
       "      <td>11084464</td>\n",
       "    </tr>\n",
       "    <tr>\n",
       "      <th>4</th>\n",
       "      <td>post_training_float16_quantization_model.tflite</td>\n",
       "      <td>0.952</td>\n",
       "      <td>16.130</td>\n",
       "      <td>5559600</td>\n",
       "    </tr>\n",
       "    <tr>\n",
       "      <th>8</th>\n",
       "      <td>BASE MOSEL</td>\n",
       "      <td>0.952</td>\n",
       "      <td>30.200</td>\n",
       "      <td>34768813</td>\n",
       "    </tr>\n",
       "    <tr>\n",
       "      <th>2</th>\n",
       "      <td>only_16_bit_activations_with_8_bit_weights.tflite</td>\n",
       "      <td>0.954</td>\n",
       "      <td>340.806</td>\n",
       "      <td>3120768</td>\n",
       "    </tr>\n",
       "    <tr>\n",
       "      <th>6</th>\n",
       "      <td>quantized_and_pruned_tflite.tflite</td>\n",
       "      <td>0.956</td>\n",
       "      <td>2741.036</td>\n",
       "      <td>2997200</td>\n",
       "    </tr>\n",
       "    <tr>\n",
       "      <th>7</th>\n",
       "      <td>sparsity_clustered_model_tflite_file.tflite</td>\n",
       "      <td>0.952</td>\n",
       "      <td>2742.798</td>\n",
       "      <td>2997200</td>\n",
       "    </tr>\n",
       "    <tr>\n",
       "      <th>3</th>\n",
       "      <td>post_training_dynamic_range_quantization.tflite</td>\n",
       "      <td>0.956</td>\n",
       "      <td>2742.804</td>\n",
       "      <td>2997200</td>\n",
       "    </tr>\n",
       "    <tr>\n",
       "      <th>0</th>\n",
       "      <td>actually_quantized_model_for_the_TFLite_backen...</td>\n",
       "      <td>0.956</td>\n",
       "      <td>2779.818</td>\n",
       "      <td>3039968</td>\n",
       "    </tr>\n",
       "    <tr>\n",
       "      <th>1</th>\n",
       "      <td>aware_quantized_tflite_model.tflite</td>\n",
       "      <td>0.936</td>\n",
       "      <td>2782.475</td>\n",
       "      <td>3041128</td>\n",
       "    </tr>\n",
       "  </tbody>\n",
       "</table>\n",
       "</div>"
      ],
      "text/plain": [
       "                                                name  accuracy  \\\n",
       "5                               pruned_tflite.tflite     0.954   \n",
       "4    post_training_float16_quantization_model.tflite     0.952   \n",
       "8                                         BASE MOSEL     0.952   \n",
       "2  only_16_bit_activations_with_8_bit_weights.tflite     0.954   \n",
       "6                 quantized_and_pruned_tflite.tflite     0.956   \n",
       "7        sparsity_clustered_model_tflite_file.tflite     0.952   \n",
       "3    post_training_dynamic_range_quantization.tflite     0.956   \n",
       "0  actually_quantized_model_for_the_TFLite_backen...     0.956   \n",
       "1                aware_quantized_tflite_model.tflite     0.936   \n",
       "\n",
       "   run time cpu only      size  \n",
       "5             16.077  11084464  \n",
       "4             16.130   5559600  \n",
       "8             30.200  34768813  \n",
       "2            340.806   3120768  \n",
       "6           2741.036   2997200  \n",
       "7           2742.798   2997200  \n",
       "3           2742.804   2997200  \n",
       "0           2779.818   3039968  \n",
       "1           2782.475   3041128  "
      ]
     },
     "execution_count": 10,
     "metadata": {},
     "output_type": "execute_result"
    }
   ],
   "source": [
    "df = df.sort_values(by='run time cpu only', ascending = True )\n",
    "df"
   ]
  },
  {
   "cell_type": "code",
   "execution_count": 11,
   "metadata": {},
   "outputs": [
    {
     "data": {
      "text/html": [
       "<div>\n",
       "<style scoped>\n",
       "    .dataframe tbody tr th:only-of-type {\n",
       "        vertical-align: middle;\n",
       "    }\n",
       "\n",
       "    .dataframe tbody tr th {\n",
       "        vertical-align: top;\n",
       "    }\n",
       "\n",
       "    .dataframe thead th {\n",
       "        text-align: right;\n",
       "    }\n",
       "</style>\n",
       "<table border=\"1\" class=\"dataframe\">\n",
       "  <thead>\n",
       "    <tr style=\"text-align: right;\">\n",
       "      <th></th>\n",
       "      <th>name</th>\n",
       "      <th>accuracy</th>\n",
       "      <th>run time cpu only</th>\n",
       "      <th>size</th>\n",
       "    </tr>\n",
       "  </thead>\n",
       "  <tbody>\n",
       "    <tr>\n",
       "      <th>6</th>\n",
       "      <td>quantized_and_pruned_tflite.tflite</td>\n",
       "      <td>0.956</td>\n",
       "      <td>2741.036</td>\n",
       "      <td>2997200</td>\n",
       "    </tr>\n",
       "    <tr>\n",
       "      <th>3</th>\n",
       "      <td>post_training_dynamic_range_quantization.tflite</td>\n",
       "      <td>0.956</td>\n",
       "      <td>2742.804</td>\n",
       "      <td>2997200</td>\n",
       "    </tr>\n",
       "    <tr>\n",
       "      <th>0</th>\n",
       "      <td>actually_quantized_model_for_the_TFLite_backen...</td>\n",
       "      <td>0.956</td>\n",
       "      <td>2779.818</td>\n",
       "      <td>3039968</td>\n",
       "    </tr>\n",
       "    <tr>\n",
       "      <th>5</th>\n",
       "      <td>pruned_tflite.tflite</td>\n",
       "      <td>0.954</td>\n",
       "      <td>16.077</td>\n",
       "      <td>11084464</td>\n",
       "    </tr>\n",
       "    <tr>\n",
       "      <th>2</th>\n",
       "      <td>only_16_bit_activations_with_8_bit_weights.tflite</td>\n",
       "      <td>0.954</td>\n",
       "      <td>340.806</td>\n",
       "      <td>3120768</td>\n",
       "    </tr>\n",
       "    <tr>\n",
       "      <th>4</th>\n",
       "      <td>post_training_float16_quantization_model.tflite</td>\n",
       "      <td>0.952</td>\n",
       "      <td>16.130</td>\n",
       "      <td>5559600</td>\n",
       "    </tr>\n",
       "    <tr>\n",
       "      <th>8</th>\n",
       "      <td>BASE MOSEL</td>\n",
       "      <td>0.952</td>\n",
       "      <td>30.200</td>\n",
       "      <td>34768813</td>\n",
       "    </tr>\n",
       "    <tr>\n",
       "      <th>7</th>\n",
       "      <td>sparsity_clustered_model_tflite_file.tflite</td>\n",
       "      <td>0.952</td>\n",
       "      <td>2742.798</td>\n",
       "      <td>2997200</td>\n",
       "    </tr>\n",
       "    <tr>\n",
       "      <th>1</th>\n",
       "      <td>aware_quantized_tflite_model.tflite</td>\n",
       "      <td>0.936</td>\n",
       "      <td>2782.475</td>\n",
       "      <td>3041128</td>\n",
       "    </tr>\n",
       "  </tbody>\n",
       "</table>\n",
       "</div>"
      ],
      "text/plain": [
       "                                                name  accuracy  \\\n",
       "6                 quantized_and_pruned_tflite.tflite     0.956   \n",
       "3    post_training_dynamic_range_quantization.tflite     0.956   \n",
       "0  actually_quantized_model_for_the_TFLite_backen...     0.956   \n",
       "5                               pruned_tflite.tflite     0.954   \n",
       "2  only_16_bit_activations_with_8_bit_weights.tflite     0.954   \n",
       "4    post_training_float16_quantization_model.tflite     0.952   \n",
       "8                                         BASE MOSEL     0.952   \n",
       "7        sparsity_clustered_model_tflite_file.tflite     0.952   \n",
       "1                aware_quantized_tflite_model.tflite     0.936   \n",
       "\n",
       "   run time cpu only      size  \n",
       "6           2741.036   2997200  \n",
       "3           2742.804   2997200  \n",
       "0           2779.818   3039968  \n",
       "5             16.077  11084464  \n",
       "2            340.806   3120768  \n",
       "4             16.130   5559600  \n",
       "8             30.200  34768813  \n",
       "7           2742.798   2997200  \n",
       "1           2782.475   3041128  "
      ]
     },
     "execution_count": 11,
     "metadata": {},
     "output_type": "execute_result"
    }
   ],
   "source": [
    "df = df.sort_values(by='accuracy', ascending = False )\n",
    "df"
   ]
  },
  {
   "cell_type": "code",
   "execution_count": null,
   "metadata": {},
   "outputs": [],
   "source": []
  }
 ],
 "metadata": {
  "colab": {
   "collapsed_sections": [],
   "name": "super_resolution.ipynb",
   "provenance": [],
   "toc_visible": true
  },
  "kernelspec": {
   "display_name": "Python 3",
   "language": "python",
   "name": "python3"
  },
  "language_info": {
   "codemirror_mode": {
    "name": "ipython",
    "version": 3
   },
   "file_extension": ".py",
   "mimetype": "text/x-python",
   "name": "python",
   "nbconvert_exporter": "python",
   "pygments_lexer": "ipython3",
   "version": "3.8.6"
  }
 },
 "nbformat": 4,
 "nbformat_minor": 1
}
